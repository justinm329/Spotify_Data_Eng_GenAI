{
 "cells": [
  {
   "cell_type": "code",
   "execution_count": 1,
   "metadata": {},
   "outputs": [],
   "source": [
    "import pandas as pd\n",
    "import pyarrow\n",
    "import numpy as np\n",
    "from sf_conn_2 import Config\n",
    "import snowflake.connector as sfc\n",
    "from sql_transformations import spotify_transformation"
   ]
  },
  {
   "cell_type": "code",
   "execution_count": 8,
   "metadata": {},
   "outputs": [],
   "source": [
    "def build_refined_playlist():\n",
    "    spotify_transformation_client = spotify_transformation()\n",
    "    spotify_transformation_client.refined_playlists()"
   ]
  },
  {
   "cell_type": "code",
   "execution_count": 8,
   "metadata": {},
   "outputs": [],
   "source": [
    "conn = Config().create_sf_conn()\n",
    "cursor = conn.cursor()\n",
    "try:\n",
    "    \n",
    "    query = \"\"\"\n",
    "                CREATE OR REPLACE TRANSIENT TABLE ANALYTICS_JUSTIN.SPOTIFY_SCHEMA.MAIN_SPOTIFY AS\n",
    "                        SELECT \n",
    "                            p.track_id,\n",
    "                            p.playlist_id,\n",
    "                            p.playlist_name,\n",
    "                            p.track_name,\n",
    "                            i.track_popularity,\n",
    "                            p.artists,\n",
    "                            p.genres,\n",
    "                            a.danceability,\n",
    "                            a.duration_ms,\n",
    "                            a.energy,\n",
    "                            a.instrumental,\n",
    "                            a.song_key,\n",
    "                            a.liveness,\n",
    "                            a.loudness,\n",
    "                            a.speechiness\n",
    "                        FROM ANALYTICS_JUSTIN.SPOTIFY_SCHEMA.ALL_PLAYLISTS_REFINED p\n",
    "                        INNER JOIN ANALYTICS_JUSTIN.SPOTIFY_SCHEMA.AUDIO_FEATURES_REFINED a ON p.track_id = a.track_id\n",
    "                        INNER JOIN ANALYTICS_JUSTIN.SPOTIFY_SCHEMA.TRACK_INFORMATION_REFINED i ON p.track_id = i.track_id\n",
    "            \"\"\"\n",
    "    cursor.execute(query)\n",
    "except sfc.Error as e: \n",
    "    print(f'Error happened in TRACK_INFORMATION_REFINED: {e}')\n",
    "finally:\n",
    "    cursor.close()\n",
    "    conn.close()"
   ]
  }
 ],
 "metadata": {
  "kernelspec": {
   "display_name": "spotify",
   "language": "python",
   "name": "python3"
  },
  "language_info": {
   "codemirror_mode": {
    "name": "ipython",
    "version": 3
   },
   "file_extension": ".py",
   "mimetype": "text/x-python",
   "name": "python",
   "nbconvert_exporter": "python",
   "pygments_lexer": "ipython3",
   "version": "3.10.9"
  }
 },
 "nbformat": 4,
 "nbformat_minor": 2
}
