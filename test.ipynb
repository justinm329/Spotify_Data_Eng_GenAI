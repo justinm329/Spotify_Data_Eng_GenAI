{
 "cells": [
  {
   "cell_type": "code",
   "execution_count": 1,
   "metadata": {},
   "outputs": [
    {
     "name": "stderr",
     "output_type": "stream",
     "text": [
      "/var/folders/0n/bwyv05nn3hl95hhlm7qy85fh0000gn/T/ipykernel_42873/255710073.py:8: DeprecationWarning: \n",
      "Pyarrow will become a required dependency of pandas in the next major release of pandas (pandas 3.0),\n",
      "(to allow more performant data types, such as the Arrow string type, and better interoperability with other libraries)\n",
      "but was not found to be installed on your system.\n",
      "If this would cause problems for you,\n",
      "please provide us feedback at https://github.com/pandas-dev/pandas/issues/54466\n",
      "        \n",
      "  import pandas as pd\n"
     ]
    }
   ],
   "source": [
    "import os\n",
    "import requests\n",
    "from dotenv import load_dotenv\n",
    "load_dotenv()\n",
    "import base64\n",
    "import json\n",
    "import numpy as np\n",
    "import pandas as pd\n",
    "from snowflake.connector.pandas_tools import write_pandas\n",
    "import utils.sf_conn as sf_conn"
   ]
  },
  {
   "cell_type": "code",
   "execution_count": 2,
   "metadata": {},
   "outputs": [],
   "source": [
    "client_id = os.getenv('CLIENT_ID')\n",
    "client_secret = os.getenv('CLIENT_SECRET')"
   ]
  },
  {
   "cell_type": "code",
   "execution_count": 3,
   "metadata": {},
   "outputs": [],
   "source": [
    "# Encode Client ID and Client Secret\n",
    "client_creds = f\"{client_id}:{client_secret}\"\n",
    "client_creds_b64 = base64.b64encode(client_creds.encode()).decode()\n",
    "\n",
    "auth_url = 'https://accounts.spotify.com/api/token'\n",
    "headers = {\n",
    "    'Authorization': f\"Basic {client_creds_b64}\"\n",
    "}\n",
    "\n",
    "payload = {\n",
    "    \"grant_type\": \"client_credentials\"\n",
    "}\n",
    "\n",
    "auth_response = requests.post(auth_url, headers=headers, data=payload)\n",
    "auth_response_data = auth_response.json()\n",
    "access_token = auth_response_data['access_token']\n",
    "\n",
    "# Step 2: Make API Request with the Access Token\n",
    "api_headers = {\n",
    "    \"Authorization\": \"Bearer \" + access_token\n",
    "}\n",
    "\n",
    "# base_url = 'https://api.spotify.com/v1/'\n",
    "# track_id = '6y0igZArWVi6Iz0rj35c1Y'\n",
    "# r = requests.get(base_url + 'audio-features/' + track_id, headers=api_headers)\n",
    "# r = r.json()\n",
    "# r\n"
   ]
  },
  {
   "cell_type": "code",
   "execution_count": 13,
   "metadata": {},
   "outputs": [
    {
     "data": {
      "text/plain": [
       "{'access_token': 'BQDVn0Y0C5BBlKYX0oD0Qo2zwAdEMc_zy0h-QksC9hV64e76RokpBG2heEJ2hOBR_lfGeV_BJia7Wp-reKPHQ2Vej3l3nwWLB5kFxlWnctmXxlzU8s0',\n",
       " 'token_type': 'Bearer',\n",
       " 'expires_in': 3600}"
      ]
     },
     "execution_count": 13,
     "metadata": {},
     "output_type": "execute_result"
    }
   ],
   "source": [
    "auth_response_data"
   ]
  },
  {
   "cell_type": "code",
   "execution_count": null,
   "metadata": {},
   "outputs": [],
   "source": [
    "# def get_playlists_name(access_token, playlist_id):\n",
    "#     url = f\"https://api.spotify.com/v1/playlists/{playlist_id}\"\n",
    "#     headers = {'Authorization': f'Bearer {access_token}'}\n",
    "#     response = requests.get(url, headers=headers)\n",
    "#     playlist_name = response.json().get(\"name\")\n"
   ]
  },
  {
   "cell_type": "code",
   "execution_count": null,
   "metadata": {},
   "outputs": [],
   "source": [
    "# url = f\"https://api.spotify.com/v1/tracks/6dLLEE96JRnX1ngkL77yiA\"\n",
    "# headers = {'Authorization': f'Bearer {access_token}'}\n",
    "# response = requests.get(url, headers=headers)\n",
    "# track_data = response.json()\n",
    "# artist_popularity = []\n",
    "# # if \"artists\" in track_data:\n",
    "# for artist in track_data[\"artists\"]:\n",
    "#     print(artist)\n",
    "#     popularity = artist.get(\"type\")\n",
    "#     name = artist.get(\"name\", \"Unknown Artist\")\n",
    "#     artist_popularity.append((name, popularity))\n",
    "\n",
    "# # Output the result\n",
    "# for name, popularity in artist_popularity:\n",
    "#     print(f\"Artist: {name}, Popularity: {popularity}\")"
   ]
  },
  {
   "cell_type": "code",
   "execution_count": null,
   "metadata": {},
   "outputs": [],
   "source": [
    "# def get_artist_genres(access_token, artist_id):\n",
    "#     url = f\"https://api.spotify.com/v1/artists/{artist_id}\"\n",
    "#     headers = {'Authorization': f'Bearer {access_token}'}\n",
    "#     response = requests.get(url, headers=headers)\n",
    "\n",
    "#     if response.status_code == 200:\n",
    "#         artist_data = response.json()\n",
    "#         print(artist_data)\n",
    "#         return ', '.join(artist_data.get('genres', []))\n",
    "#     else:\n",
    "#         print(f\"Error fetching genres for artist {artist_id}\")\n",
    "#         return ''"
   ]
  },
  {
   "cell_type": "code",
   "execution_count": null,
   "metadata": {},
   "outputs": [],
   "source": []
  },
  {
   "cell_type": "code",
   "execution_count": null,
   "metadata": {},
   "outputs": [],
   "source": [
    "def get_playlist_name_tracks(access_token, playlist_id):\n",
    "    all_playlists_data = []\n",
    "    for ids in playlist_id:\n",
    "        # Get the playlists name\n",
    "        url = f\"https://api.spotify.com/v1/playlists/{ids}\"\n",
    "        headers = {'Authorization': f'Bearer {access_token}'}\n",
    "        name_response = requests.get(url, headers=headers)\n",
    "        playlist_name = name_response.json().get(\"name\")\n",
    "        # get the track_ids\n",
    "\n",
    "        url = f'https://api.spotify.com/v1/playlists/{ids}/tracks'\n",
    "        headers = {'Authorization': f'Bearer {access_token}'}\n",
    "        track_id_response = requests.get(url, headers=headers)\n",
    "        \n",
    "        if track_id_response.status_code == 200:\n",
    "            track_response = track_id_response.json()\n",
    "            tracks_data = track_response['tracks']\n",
    "            for item in tracks_data['items']:\n",
    "                if item['track'] is not None:\n",
    "                    track_id = item['track']['id']\n",
    "                    track_name = item['track']['name']\n",
    "                    artist_names = ', '.join(artist['name'] for artist in item['track']['artists'])\n",
    "                    artist_id = ', '.join(artist['id'] for artist in item['track']['artists'])\n",
    "                 #   genres_list = ', '.join(artist['genres'] for artist in item['track'][0]['track']['artists'][0])\n",
    "                    #genres = '; '.join(genres_list)\n",
    "\n",
    "                    all_playlists_data.append({\n",
    "                        'Playlist_Id': ids,\n",
    "                        \"Playlist_Name\": playlist_name,\n",
    "                        'Track_Name': track_name,\n",
    "                        \"Artist_Names\": artist_names,\n",
    "                        \"artist_id\":artist_id,\n",
    "                        \"Track_Id\": track_id,\n",
    "                      #  \"Genres\": genres_list\n",
    "                    })\n",
    "        else:\n",
    "            raise Exception(f\"Error in API request: {track_id_response.status_code}\")\n",
    "    playlist_df = pd.DataFrame(all_playlists_data)\n",
    "    return playlist_df"
   ]
  },
  {
   "cell_type": "code",
   "execution_count": 10,
   "metadata": {},
   "outputs": [],
   "source": [
    "def get_track_information(access_token, track_id):\n",
    "    track_data_list = []\n",
    "    # for id in track_id:\n",
    "    url = f\"https://api.spotify.com/v1/tracks/{track_id}\"\n",
    "    headers = {'Authorization': f'Bearer {access_token}'}\n",
    "    response = requests.get(url, headers=headers)\n",
    "    print(response.headers['access-control-allow-headers'])\n",
    "    # Check if the response status code indicates success\n",
    "    if response.status_code == 200:\n",
    "        try:\n",
    "            track_data = response.json()\n",
    "            #print(track_data)\n",
    "            track_name = track_data.get('name')\n",
    "            track_popularity = track_data.get('popularity')\n",
    "            track_uri = track_data.get('uri')\n",
    "\n",
    "            track_data_list.append({\n",
    "                \n",
    "            \"Track_Id\": track_id,\n",
    "            \"Track_Name\": track_name,\n",
    "            \"Track_Popularity\": track_popularity,\n",
    "            \"Track_Uri\": track_uri\n",
    "        })\n",
    "\n",
    "        except:\n",
    "            print(\"Error: Could not decode JSON. Response content:\", response.text)\n",
    "            raise\n",
    "    else:\n",
    "        # The API request was not successful\n",
    "        print(f\"Error: Received response with status code {response.status_code}. Response content:\", response.text)\n",
    "        return None\n",
    "    return pd.DataFrame(track_data_list)\n"
   ]
  },
  {
   "cell_type": "code",
   "execution_count": 11,
   "metadata": {},
   "outputs": [
    {
     "name": "stdout",
     "output_type": "stream",
     "text": [
      "Accept, App-Platform, Authorization, Content-Type, Origin, Retry-After, Spotify-App-Version, X-Cloud-Trace-Context, client-token, content-access-token\n"
     ]
    },
    {
     "data": {
      "text/html": [
       "<div>\n",
       "<style scoped>\n",
       "    .dataframe tbody tr th:only-of-type {\n",
       "        vertical-align: middle;\n",
       "    }\n",
       "\n",
       "    .dataframe tbody tr th {\n",
       "        vertical-align: top;\n",
       "    }\n",
       "\n",
       "    .dataframe thead th {\n",
       "        text-align: right;\n",
       "    }\n",
       "</style>\n",
       "<table border=\"1\" class=\"dataframe\">\n",
       "  <thead>\n",
       "    <tr style=\"text-align: right;\">\n",
       "      <th></th>\n",
       "      <th>Track_Id</th>\n",
       "      <th>Track_Name</th>\n",
       "      <th>Track_Popularity</th>\n",
       "      <th>Track_Uri</th>\n",
       "    </tr>\n",
       "  </thead>\n",
       "  <tbody>\n",
       "    <tr>\n",
       "      <th>0</th>\n",
       "      <td>6dLLEE96JRnX1ngkL77yiA</td>\n",
       "      <td>Boom (feat. MOTi, Ty Dolla $ign, Wizkid &amp; Kran...</td>\n",
       "      <td>31</td>\n",
       "      <td>spotify:track:6dLLEE96JRnX1ngkL77yiA</td>\n",
       "    </tr>\n",
       "  </tbody>\n",
       "</table>\n",
       "</div>"
      ],
      "text/plain": [
       "                 Track_Id                                         Track_Name  \\\n",
       "0  6dLLEE96JRnX1ngkL77yiA  Boom (feat. MOTi, Ty Dolla $ign, Wizkid & Kran...   \n",
       "\n",
       "   Track_Popularity                             Track_Uri  \n",
       "0                31  spotify:track:6dLLEE96JRnX1ngkL77yiA  "
      ]
     },
     "execution_count": 11,
     "metadata": {},
     "output_type": "execute_result"
    }
   ],
   "source": [
    "track_info = get_track_information(access_token= access_token, track_id = '6dLLEE96JRnX1ngkL77yiA')\n",
    "\n",
    "track_info"
   ]
  },
  {
   "cell_type": "code",
   "execution_count": null,
   "metadata": {},
   "outputs": [],
   "source": [
    "response.headers"
   ]
  },
  {
   "cell_type": "code",
   "execution_count": null,
   "metadata": {},
   "outputs": [],
   "source": [
    "track_info.info()"
   ]
  },
  {
   "cell_type": "code",
   "execution_count": null,
   "metadata": {},
   "outputs": [],
   "source": [
    "# def get_audio_features(access_token, track_ids):\n",
    "def get_track_audio_features(access_token, track_ids):\n",
    "    track_audio_features = []\n",
    "    for id in track_ids:\n",
    "        url = f\"https://api.spotify.com/v1/audio-features/{id}\"\n",
    "        headers = {'Authorization': f'Bearer {access_token}'}\n",
    "        response = requests.get(url, headers=headers)\n",
    "        track = response.json()\n",
    "        if response.status_code == 200:\n",
    "            try:\n",
    "                # for audio in repsone_json['track']:\n",
    "                audio_data = {\n",
    "                    'Track_id': id,\n",
    "                    'danceability': track['danceability'],\n",
    "                    'duration_ms': track['duration_ms'],\n",
    "                    'energy': track['energy'],\n",
    "                    'instrumentalness': track['instrumentalness'],\n",
    "                    'key': track['key'],\n",
    "                    'liveness': track['liveness'],\n",
    "                    'loudness': track['loudness'],\n",
    "                    'mode': track['mode'],\n",
    "                    'speechiness': track['speechiness'],\n",
    "                    'time_signature':track['time_signature'],\n",
    "                    'track_uri': track['uri']\n",
    "\n",
    "                }\n",
    "                track_audio_features.append(audio_data)\n",
    "            except json.JSONDecodeError as e:\n",
    "                print(f\"Error decoding JSON for workbook ID {id}: {e}\")\n",
    "        else:\n",
    "            raise Exception(f\"Error in API request: {response.status_code}\")\n",
    "    track_audio_features_df = pd.DataFrame(track_audio_features)\n",
    "    return track_audio_features_df"
   ]
  },
  {
   "cell_type": "code",
   "execution_count": null,
   "metadata": {},
   "outputs": [],
   "source": [
    "playlist_data = get_playlist_name_tracks(access_token=access_token, playlist_id=['37i9dQZF1EQp9BVPsNVof1?si=b0e0182f48ea461c'])\n",
    "                                                                            # \"37i9dQZF1EIh5VHows1LoY?si=3f242c7e9e7a43f8\",\n",
    "                                                                            # '37i9dQZF1EVKuMoAJjoTIw?si=2ed6df3d293b4519',\n",
    "                                                                            # '37i9dQZF1EQpoj8u9Hn81e?si=92566118c4954e73',\n",
    "                                                                            # '37i9dQZF1EQqlvxWrOgFZm?si=2b9ab93cc7714708',\n",
    "                                                                            # '37i9dQZF1EIhBF9gUW4UsT?si=089940507c6b46f3',\n",
    "                                                                            # '37i9dQZF1EIherXksVvnrN?si=d8e28d16e28b40b0',\n",
    "                                                                            # '37i9dQZF1EVHGWrwldPRtj?si=98356d3db1994d67',\n",
    "                                                                            # \"37i9dQZF1DWSf2RDTDayIx?si=1d3f916447094372\"\n",
    "                                                                            # \"37i9dQZF1DX0AMssoUKCz7?si=80092935821a4201\",\n",
    "                                                                            # '37i9dQZF1DX0hvSv9Rf41p?si=72b7f2562f0a4020',\n",
    "                                                                            # \"6FSFUWzuF2KigQDKV42Uru?si=cfc88421610b46c3\",\n",
    "                                                                            # '37i9dQZF1E35DbZEmy06Qp?si=b6e38bde3d8d4116'])"
   ]
  },
  {
   "cell_type": "code",
   "execution_count": null,
   "metadata": {},
   "outputs": [],
   "source": [
    "playlist_data.head()"
   ]
  },
  {
   "cell_type": "code",
   "execution_count": null,
   "metadata": {},
   "outputs": [],
   "source": [
    "audio_features_df = get_track_audio_features(access_token = access_token, track_ids = playlist_data['Track_Id'])\n"
   ]
  },
  {
   "cell_type": "code",
   "execution_count": null,
   "metadata": {},
   "outputs": [],
   "source": [
    "audio_features_df.head()"
   ]
  },
  {
   "cell_type": "code",
   "execution_count": null,
   "metadata": {},
   "outputs": [],
   "source": []
  }
 ],
 "metadata": {
  "kernelspec": {
   "display_name": "spotify",
   "language": "python",
   "name": "python3"
  },
  "language_info": {
   "codemirror_mode": {
    "name": "ipython",
    "version": 3
   },
   "file_extension": ".py",
   "mimetype": "text/x-python",
   "name": "python",
   "nbconvert_exporter": "python",
   "pygments_lexer": "ipython3",
   "version": "3.10.13"
  }
 },
 "nbformat": 4,
 "nbformat_minor": 2
}
