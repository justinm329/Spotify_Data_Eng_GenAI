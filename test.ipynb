{
 "cells": [
  {
   "cell_type": "code",
   "execution_count": 3,
   "metadata": {},
   "outputs": [
    {
     "data": {
      "text/plain": [
       "True"
      ]
     },
     "execution_count": 3,
     "metadata": {},
     "output_type": "execute_result"
    }
   ],
   "source": [
    "import os\n",
    "import requests\n",
    "from dotenv import load_dotenv\n",
    "import base64\n",
    "import json\n",
    "import numpy as np\n",
    "import pandas as pd\n",
    "from snowflake.connector.pandas_tools import write_pandas\n",
    "from utils.sf_conn import Config\n",
    "from utils.assistant_api import Spotify_Assistant\n",
    "from utils.prompt import PROMPT\n",
    "import time\n",
    "load_dotenv()"
   ]
  },
  {
   "cell_type": "code",
   "execution_count": null,
   "metadata": {},
   "outputs": [],
   "source": [
    "sf_config = Config()\n",
    "create_conn = sf_config.create_sf_conn()"
   ]
  },
  {
   "cell_type": "code",
   "execution_count": null,
   "metadata": {},
   "outputs": [],
   "source": [
    "cursor = create_conn.cursor()\n",
    "query = \"SELECT * FROM MAIN_SPOTIFY\"\n",
    "spotify_df = cursor.execute(query).fetch_pandas_all()\n",
    "spotify_df.head(3)"
   ]
  },
  {
   "cell_type": "code",
   "execution_count": null,
   "metadata": {},
   "outputs": [],
   "source": [
    "spotify_csv = spotify_df.to_csv('assistant_data/spotify_main_file')"
   ]
  },
  {
   "cell_type": "code",
   "execution_count": null,
   "metadata": {},
   "outputs": [],
   "source": [
    "def wait_until_run_status_completed(assistant, run_id):\n",
    "    start_time = time.time() # starting a timer in case, the while loop gets stuck\n",
    "    while True:\n",
    "        (status := assistant.run_status(run_id))\n",
    "        if status == \"completed\":\n",
    "            break\n",
    "        elif status in {\"in_progress\", \"queued\"}:\n",
    "            cur_time = time.time()\n",
    "            time_elasped = cur_time - start_time\n",
    "            if time_elasped >= 600: # break the loop after it's been running for 10 mins\n",
    "                break\n",
    "            continue\n",
    "        else:\n",
    "            break\n",
    "    assert status == \"completed\""
   ]
  },
  {
   "cell_type": "code",
   "execution_count": null,
   "metadata": {},
   "outputs": [],
   "source": [
    "# def upload_csv_file(file_path):\n",
    "#     api_key =  os.getenv('OPENAI_API_KEY')\n",
    "#     openai.api_key = api_key\n",
    "#     with open(file_path, \"rb\") as file:\n",
    "#         uploaded_file = openai.files.create(\n",
    "#             file=file,\n",
    "#             purpose='assistants'\n",
    "#         )\n",
    "#     return uploaded_file.id"
   ]
  },
  {
   "cell_type": "code",
   "execution_count": 4,
   "metadata": {},
   "outputs": [
    {
     "name": "stdout",
     "output_type": "stream",
     "text": [
      "------------upload_csv--------------------------------\n",
      "file-OeQpRRWniFizmrAvRw7qvls0\n",
      "---------Show Files in Assistant-------------------\n",
      "['file-OeQpRRWniFizmrAvRw7qvls0']\n",
      "---------Delete Files in assistant---------------------\n"
     ]
    }
   ],
   "source": [
    "assistant = Spotify_Assistant(assistant_id='asst_afQAdlE40WllyVRI7mDZBjha')\n",
    "upload_csv = assistant.upload_csv_file('assistant_data/spotify_main_file')\n",
    "print(\"------------upload_csv--------------------------------\")\n",
    "print(upload_csv)\n",
    "files = assistant.show_filed_uplaoded()\n",
    "print(\"---------Show Files in Assistant-------------------\")\n",
    "print(files)\n",
    "print(\"---------Delete Files in assistant---------------------\")\n",
    "# delete_files = assistant.delete_file()\n",
    "# print(delete_files)\n"
   ]
  },
  {
   "cell_type": "code",
   "execution_count": 5,
   "metadata": {},
   "outputs": [
    {
     "name": "stdout",
     "output_type": "stream",
     "text": [
      "FileDeleteResponse(id='file-OeQpRRWniFizmrAvRw7qvls0', deleted=True, object='assistant.file.deleted')\n"
     ]
    },
    {
     "ename": "TypeError",
     "evalue": "'FileDeleteResponse' object is not subscriptable",
     "output_type": "error",
     "traceback": [
      "\u001b[0;31m---------------------------------------------------------------------------\u001b[0m",
      "\u001b[0;31mTypeError\u001b[0m                                 Traceback (most recent call last)",
      "\u001b[1;32m/Users/justinfarnan_hakkoda/Fundamentals_Data_Engineering/Spotify_Data_Eng_GenAI/test.ipynb Cell 8\u001b[0m line \u001b[0;36m1\n\u001b[0;32m----> <a href='vscode-notebook-cell:/Users/justinfarnan_hakkoda/Fundamentals_Data_Engineering/Spotify_Data_Eng_GenAI/test.ipynb#X14sZmlsZQ%3D%3D?line=0'>1</a>\u001b[0m delete_files \u001b[39m=\u001b[39m assistant\u001b[39m.\u001b[39;49mdelete_file()\n\u001b[1;32m      <a href='vscode-notebook-cell:/Users/justinfarnan_hakkoda/Fundamentals_Data_Engineering/Spotify_Data_Eng_GenAI/test.ipynb#X14sZmlsZQ%3D%3D?line=1'>2</a>\u001b[0m delete_files\n",
      "File \u001b[0;32m~/Fundamentals_Data_Engineering/Spotify_Data_Eng_GenAI/utils/assistant_api.py:54\u001b[0m, in \u001b[0;36mSpotify_Assistant.delete_file\u001b[0;34m(self)\u001b[0m\n\u001b[1;32m     49\u001b[0m delete_file \u001b[39m=\u001b[39m \u001b[39mself\u001b[39m\u001b[39m.\u001b[39mclient\u001b[39m.\u001b[39mbeta\u001b[39m.\u001b[39massistants\u001b[39m.\u001b[39mfiles\u001b[39m.\u001b[39mdelete(\n\u001b[1;32m     50\u001b[0m     assistant_id \u001b[39m=\u001b[39m \u001b[39mself\u001b[39m\u001b[39m.\u001b[39massistant_id,\n\u001b[1;32m     51\u001b[0m     file_id \u001b[39m=\u001b[39m convert_to_string\n\u001b[1;32m     52\u001b[0m )\n\u001b[1;32m     53\u001b[0m \u001b[39mprint\u001b[39m(delete_file)\n\u001b[0;32m---> 54\u001b[0m status \u001b[39m=\u001b[39m delete_file[\u001b[39m0\u001b[39;49m][\u001b[39m'\u001b[39m\u001b[39mdeleted\u001b[39m\u001b[39m'\u001b[39m]\n\u001b[1;32m     55\u001b[0m \u001b[39mreturn\u001b[39;00m status\n",
      "\u001b[0;31mTypeError\u001b[0m: 'FileDeleteResponse' object is not subscriptable"
     ]
    }
   ],
   "source": [
    "delete_files = assistant.delete_file()\n",
    "delete_files"
   ]
  },
  {
   "cell_type": "code",
   "execution_count": null,
   "metadata": {},
   "outputs": [],
   "source": [
    "for i in files:\n",
    "    print(i.id)"
   ]
  },
  {
   "cell_type": "code",
   "execution_count": null,
   "metadata": {},
   "outputs": [],
   "source": [
    "! pip list"
   ]
  },
  {
   "cell_type": "code",
   "execution_count": null,
   "metadata": {},
   "outputs": [],
   "source": [
    "import os\n",
    "\n",
    "import snowflake.connector as sfc\n",
    "from snowflake.connector.pandas_tools import write_pandas\n",
    "import json\n",
    "\n",
    "\n",
    "\n",
    "def create_sf_conn(\n",
    "            wh='COMPUTE_WH',\n",
    "            r='DATA_ENGINEER',\n",
    "            keep_alive=False):\n",
    "    conn = sfc.connect(\n",
    "            user = os.getenv(\"SF_USERNAME\"),\n",
    "            password = os.getenv(\"SF_PASSWORD\"),\n",
    "            account = os.getenv('SF_ACCOUNT'),\n",
    "            warehouse = wh,\n",
    "            role = r,\n",
    "            database = 'analytics_justin', \n",
    "            schema = 'spotify_schema', \n",
    "            client_session_keep_alive=keep_alive)\n",
    "    return conn"
   ]
  },
  {
   "cell_type": "code",
   "execution_count": null,
   "metadata": {},
   "outputs": [],
   "source": [
    "con = create_sf_conn()\n",
    "cursor = con.cursor()\n",
    "execute = cursor.execute('SELECT * from main_spotify')\n",
    "execute.fetch_pandas_all()\n"
   ]
  }
 ],
 "metadata": {
  "kernelspec": {
   "display_name": "spotify",
   "language": "python",
   "name": "python3"
  },
  "language_info": {
   "codemirror_mode": {
    "name": "ipython",
    "version": 3
   },
   "file_extension": ".py",
   "mimetype": "text/x-python",
   "name": "python",
   "nbconvert_exporter": "python",
   "pygments_lexer": "ipython3",
   "version": "3.10.13"
  }
 },
 "nbformat": 4,
 "nbformat_minor": 2
}
