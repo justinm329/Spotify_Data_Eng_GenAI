{
 "cells": [
  {
   "cell_type": "code",
   "execution_count": 1,
   "metadata": {},
   "outputs": [
    {
     "data": {
      "text/plain": [
       "True"
      ]
     },
     "execution_count": 1,
     "metadata": {},
     "output_type": "execute_result"
    }
   ],
   "source": [
    "import os\n",
    "import requests\n",
    "from dotenv import load_dotenv\n",
    "import base64\n",
    "import json\n",
    "import numpy as np\n",
    "import pandas as pd\n",
    "from snowflake.connector.pandas_tools import write_pandas\n",
    "from utils.sf_conn import Config\n",
    "from utils.assistant_api import Spotify_Assistant\n",
    "from utils.prompt import PROMPT\n",
    "import time\n",
    "load_dotenv()"
   ]
  },
  {
   "cell_type": "code",
   "execution_count": 2,
   "metadata": {},
   "outputs": [],
   "source": [
    "sf_config = Config()\n",
    "create_conn = sf_config.create_sf_conn()"
   ]
  },
  {
   "cell_type": "code",
   "execution_count": null,
   "metadata": {},
   "outputs": [],
   "source": [
    "cursor = create_conn.cursor()\n",
    "query = \"SELECT * FROM MAIN_SPOTIFY\"\n",
    "spotify_df = cursor.execute(query).fetch_pandas_all()\n",
    "spotify_df.head(3)"
   ]
  },
  {
   "cell_type": "code",
   "execution_count": null,
   "metadata": {},
   "outputs": [],
   "source": [
    "spotify_csv = spotify_df.to_csv('assistant_data/spotify_main_file')"
   ]
  },
  {
   "cell_type": "code",
   "execution_count": 3,
   "metadata": {},
   "outputs": [],
   "source": [
    "def wait_until_run_status_completed(assistant, run_id):\n",
    "    start_time = time.time() # starting a timer in case, the while loop gets stuck\n",
    "    while True:\n",
    "        (status := assistant.run_status(run_id))\n",
    "        if status == \"completed\":\n",
    "            break\n",
    "        elif status in {\"in_progress\", \"queued\"}:\n",
    "            cur_time = time.time()\n",
    "            time_elasped = cur_time - start_time\n",
    "            if time_elasped >= 600: # break the loop after it's been running for 10 mins\n",
    "                break\n",
    "            continue\n",
    "        else:\n",
    "            break\n",
    "    assert status == \"completed\""
   ]
  },
  {
   "cell_type": "code",
   "execution_count": null,
   "metadata": {},
   "outputs": [],
   "source": [
    "# def upload_csv_file(file_path):\n",
    "#     api_key =  os.getenv('OPENAI_API_KEY')\n",
    "#     openai.api_key = api_key\n",
    "#     with open(file_path, \"rb\") as file:\n",
    "#         uploaded_file = openai.files.create(\n",
    "#             file=file,\n",
    "#             purpose='assistants'\n",
    "#         )\n",
    "#     return uploaded_file.id"
   ]
  },
  {
   "cell_type": "code",
   "execution_count": 4,
   "metadata": {},
   "outputs": [
    {
     "data": {
      "text/plain": [
       "'file-seTpgq57ZuMYjq83JfaADYjh'"
      ]
     },
     "execution_count": 4,
     "metadata": {},
     "output_type": "execute_result"
    }
   ],
   "source": [
    "assistant = Spotify_Assistant(assistant_id='asst_afQAdlE40WllyVRI7mDZBjha')\n",
    "assistant.upload_csv_file('assistant_data/spotify_main_file')\n",
    "\n",
    "# print(assistant.create_assistant(file_ids=[file_id]))\n",
    "# assistant.attach_message_to_thread('What is the least popular song in the file?')\n",
    "# run = assistant.start_run(override_prompt=PROMPT)\n",
    "# assistant_status = wait_until_run_status_completed(assistant=assistant, run_id = run.id)\n",
    "# response = assistant.assistant_answer()\n",
    "# print(response)\n",
    "\n",
    "\n",
    "\n"
   ]
  },
  {
   "cell_type": "code",
   "execution_count": null,
   "metadata": {},
   "outputs": [],
   "source": [
    "! pip list"
   ]
  },
  {
   "cell_type": "code",
   "execution_count": null,
   "metadata": {},
   "outputs": [],
   "source": []
  }
 ],
 "metadata": {
  "kernelspec": {
   "display_name": "spotify",
   "language": "python",
   "name": "python3"
  },
  "language_info": {
   "codemirror_mode": {
    "name": "ipython",
    "version": 3
   },
   "file_extension": ".py",
   "mimetype": "text/x-python",
   "name": "python",
   "nbconvert_exporter": "python",
   "pygments_lexer": "ipython3",
   "version": "3.10.13"
  }
 },
 "nbformat": 4,
 "nbformat_minor": 2
}
